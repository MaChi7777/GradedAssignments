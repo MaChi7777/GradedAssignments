{
 "cells": [
  {
   "cell_type": "markdown",
   "id": "a9eeed29",
   "metadata": {},
   "source": [
    "# First Peer-graded Assignment"
   ]
  },
  {
   "cell_type": "markdown",
   "id": "60d0464c",
   "metadata": {},
   "source": [
    "## Introduction\n",
    "This Jupyter notebook contains the exercises of my first peer-graded assignment"
   ]
  },
  {
   "cell_type": "markdown",
   "id": "35bc29a1",
   "metadata": {},
   "source": [
    "### List of data science languages:\n",
    "    - Python\n",
    "    - R\n",
    "    - SQL\n",
    "    - Scala\n",
    "    - Java\n",
    "    - C++\n",
    "    - Julia\n",
    "    - JavaScript\n",
    "    - PHP\n",
    "    - Go\n",
    "    - Ruby\n",
    "    - Visual Basic"
   ]
  },
  {
   "cell_type": "markdown",
   "id": "cfc63ae2",
   "metadata": {},
   "source": [
    "### List of data science libraries:\n",
    "#### - Scientific computing libraries (Python):\n",
    "        - Pandas\n",
    "        - NumPy\n",
    "#### - Visualization libraries (Python):\n",
    "        - Matplotlib\n",
    "        - Seaborn\n",
    "#### - Machine learning and Deep learning libraries (Python):\n",
    "        - Scikit-learn\n",
    "        - Keras\n",
    "        - TensorFlow\n",
    "        - PyTorch\n",
    "#### - Other libraries (not only Python):\n",
    "        - Apache Spark (Python, R, Scala and SQL)\n",
    "        - Vegas (for data visualization in Scala)\n",
    "        - Big DL (for Deep learning in Scala)\n",
    "        - ggplot2 (for data visualization in R)\n",
    "        - other libraries in R which allow interface with Keras and TensorFlow"
   ]
  },
  {
   "cell_type": "markdown",
   "id": "65835cd3",
   "metadata": {},
   "source": [
    "### Table of data science tools:\n",
    "\n",
    "| Category | Tool name | Open source / Commercial |\n",
    "| --- | --- | --- |\n",
    "| Data management | MySQL, PostgreSQL | Open source |\n",
    "| Data management | Oracle Database, IBM Db2, SQL Server | Commercial |\n",
    "| Data management | MongoDB, Apache Cassandra | Open source |\n",
    "| Data management | Hadoop, Apache Spark | Open source |\n",
    "| Data integration and transformation| Apache Airflow, Apache Kafka | Open source |\n",
    "| Data visualization | Cognos Analytics, Tableau, PowerBI | Commercial |\n",
    "| Code asset management | Git | Open source |\n",
    "| Development environments | Jupyter Notebooks, RStudio | Open source |"
   ]
  },
  {
   "cell_type": "markdown",
   "id": "ff75ee81",
   "metadata": {},
   "source": [
    "### Arithmetic expressions examples:"
   ]
  },
  {
   "cell_type": "code",
   "execution_count": 1,
   "id": "a4c5b026",
   "metadata": {},
   "outputs": [
    {
     "data": {
      "text/plain": [
       "1640"
      ]
     },
     "execution_count": 1,
     "metadata": {},
     "output_type": "execute_result"
    }
   ],
   "source": [
    "# Product and sum of integers\n",
    "2*(300+520)"
   ]
  },
  {
   "cell_type": "code",
   "execution_count": 2,
   "id": "be548062",
   "metadata": {},
   "outputs": [
    {
     "data": {
      "text/plain": [
       "3.0"
      ]
     },
     "execution_count": 2,
     "metadata": {},
     "output_type": "execute_result"
    }
   ],
   "source": [
    "# Converting minutes in hours\n",
    "min = 180\n",
    "hours = min / 60\n",
    "hours"
   ]
  },
  {
   "cell_type": "markdown",
   "id": "0e0a5861",
   "metadata": {},
   "source": [
    "### Objectives:\n",
    "- Create a Jupyter Notebook with markdown and code cells\n",
    "- List examples of languages, libraries and tools used in Data Science\n",
    "- Share my Jupyter Notebook publicly on GitHub\n",
    "- Evaluate notebooks submitted by my peers using the provided rubric\n",
    "- Demonstrate proficiency in Data Science toolkit knowledge"
   ]
  },
  {
   "cell_type": "markdown",
   "id": "fd1f8716",
   "metadata": {},
   "source": [
    "### Author's name: Marco Chighine"
   ]
  }
 ],
 "metadata": {
  "kernelspec": {
   "display_name": "Python 3 (ipykernel)",
   "language": "python",
   "name": "python3"
  },
  "language_info": {
   "codemirror_mode": {
    "name": "ipython",
    "version": 3
   },
   "file_extension": ".py",
   "mimetype": "text/x-python",
   "name": "python",
   "nbconvert_exporter": "python",
   "pygments_lexer": "ipython3",
   "version": "3.12.2"
  }
 },
 "nbformat": 4,
 "nbformat_minor": 5
}
